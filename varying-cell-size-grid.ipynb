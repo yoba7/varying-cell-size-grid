{
 "cells": [
  {
   "cell_type": "markdown",
   "metadata": {},
   "source": [
    "# Création d'un grid de population à mailles de taille variable"
   ]
  },
  {
   "cell_type": "markdown",
   "metadata": {},
   "source": [
    "## Python imports"
   ]
  },
  {
   "cell_type": "markdown",
   "metadata": {},
   "source": [
    "Import des bibliothèques qui seront utiles à l'exécution du code.\n",
    "\n",
    "- [SQLITE3](https://docs.python.org/3.8/library/sqlite3.html \"SQLITE3\") pour créer, interroger et mettre à jour des bases de données SQLITE (système de base de données qui simplifie le stockage et l’utilisation de données relationnelles); \n",
    "- [OS](https://docs.python.org/3/library/os.html \"OS\") pour utiliser les fonctionnalités dépendantes du système d'exploitation telles que lire ou écrire un fichier ou manipuler les chemins de fichiers;\n",
    "- [Pandas](https://pandas.pydata.org/ \"Pandas\") pour la manipulation et l'analyse des données.\n",
    "- [NumPy](https://numpy.org/ \"NumPy\") pour la manipulation des matrices ou tableaux multidimensionnels ainsi que des fonctions mathématiques opérant sur ces tableaux"
   ]
  },
  {
   "cell_type": "code",
   "execution_count": 1,
   "metadata": {},
   "outputs": [],
   "source": [
    "import sqlite3\n",
    "import os\n",
    "import pandas as pd\n",
    "import numpy as np"
   ]
  },
  {
   "cell_type": "markdown",
   "metadata": {},
   "source": [
    "## Environment"
   ]
  },
  {
   "cell_type": "markdown",
   "metadata": {},
   "source": [
    "Définitions de variables générales, d'un directory de travail et création d'une base de données spatiale vide."
   ]
  },
  {
   "cell_type": "code",
   "execution_count": 2,
   "metadata": {},
   "outputs": [],
   "source": [
    "if os.path.exists(f'output/varying-cell-size-grid.sqlite'):\n",
    "     os.remove(f'output/varying-cell-size-grid.sqlite')"
   ]
  },
  {
   "cell_type": "code",
   "execution_count": 3,
   "metadata": {},
   "outputs": [],
   "source": [
    "database = sqlite3.connect(f'output/varying-cell-size-grid.sqlite')\n",
    "database.enable_load_extension(True)\n",
    "database.load_extension(\"mod_spatialite\")\n",
    "database.execute('select InitSpatialMetaData(1);')\n",
    "database.commit()"
   ]
  },
  {
   "cell_type": "markdown",
   "metadata": {},
   "source": [
    "## Input data "
   ]
  },
  {
   "cell_type": "markdown",
   "metadata": {},
   "source": [
    "### 1. Population"
   ]
  },
  {
   "cell_type": "markdown",
   "metadata": {},
   "source": [
    "Chargement des données de population dans la base de données. Ces données doivent se trouver dans un directory \"input\" au format csv (delimité par un \"|\"). \n",
    "\n",
    "Les données de population contiennent une personne par ligne, avec les coordonnées (x,y), un identifiant ménage et un identifiant personne. Ces données sont ici en **coordonnées ETRS89-extended / LAEA Europe - [EPSG:3035](https://epsg.io/3035 \"EPSG:3035\")**, qui est le système de coordonnées projetées utilisé pour l'Europe (pays de l'UE et candidats). \n",
    "\n",
    "Ces données ont été générées selon les critères suivants:\n",
    "- zone à cheval sur le Brabant wallon, le Brabant flamand et Bruxelles\n",
    "- points \"personnes\" placés sur les centroïdes des batiments repris dans les données du cadastre\n",
    "- points répartis aléatoirement dans les batiments, en respectant la densité de population des secteurs statistiques\n",
    "- création artificielle de ménages\n",
    "- attribution d'ID_DEMO et d'ID_HH fictifs\n",
    "\n",
    "Le code pour la génération de cet échantillon se trouve [ici]().\n",
    "\n",
    "Le dataset **T06_SAMPLE** est lu et chargé directement dans la base de données sqlite (table **T01_POPULATION**)."
   ]
  },
  {
   "cell_type": "code",
   "execution_count": 5,
   "metadata": {},
   "outputs": [
    {
     "data": {
      "text/plain": [
       "210953"
      ]
     },
     "execution_count": 5,
     "metadata": {},
     "output_type": "execute_result"
    }
   ],
   "source": [
    "df = pd.read_csv('input/synthetic_population/synthetic_population.csv',sep='|')\n",
    "df.to_sql(name='T01_POPULATION',con=database,index=False,if_exists=\"replace\")"
   ]
  },
  {
   "cell_type": "code",
   "execution_count": 6,
   "metadata": {},
   "outputs": [
    {
     "data": {
      "text/html": [
       "<div>\n",
       "<style scoped>\n",
       "    .dataframe tbody tr th:only-of-type {\n",
       "        vertical-align: middle;\n",
       "    }\n",
       "\n",
       "    .dataframe tbody tr th {\n",
       "        vertical-align: top;\n",
       "    }\n",
       "\n",
       "    .dataframe thead th {\n",
       "        text-align: right;\n",
       "    }\n",
       "</style>\n",
       "<table border=\"1\" class=\"dataframe\">\n",
       "  <thead>\n",
       "    <tr style=\"text-align: right;\">\n",
       "      <th></th>\n",
       "      <th>id_demo</th>\n",
       "      <th>id_hh</th>\n",
       "      <th>X</th>\n",
       "      <th>Y</th>\n",
       "      <th>cd_sector</th>\n",
       "    </tr>\n",
       "  </thead>\n",
       "  <tbody>\n",
       "    <tr>\n",
       "      <th>0</th>\n",
       "      <td>0c048b3a434e49e6</td>\n",
       "      <td>0000608540e08433</td>\n",
       "      <td>3.928896e+06</td>\n",
       "      <td>3.093221e+06</td>\n",
       "      <td>21002A00-</td>\n",
       "    </tr>\n",
       "    <tr>\n",
       "      <th>1</th>\n",
       "      <td>138bb0696595b338</td>\n",
       "      <td>0000608540e08433</td>\n",
       "      <td>3.928896e+06</td>\n",
       "      <td>3.093221e+06</td>\n",
       "      <td>21002A00-</td>\n",
       "    </tr>\n",
       "    <tr>\n",
       "      <th>2</th>\n",
       "      <td>a1d0c6e83f027327</td>\n",
       "      <td>0000608540e08433</td>\n",
       "      <td>3.928896e+06</td>\n",
       "      <td>3.093221e+06</td>\n",
       "      <td>21002A00-</td>\n",
       "    </tr>\n",
       "    <tr>\n",
       "      <th>3</th>\n",
       "      <td>824cca8cfaf9469b</td>\n",
       "      <td>000065bda44347cc</td>\n",
       "      <td>3.936903e+06</td>\n",
       "      <td>3.086124e+06</td>\n",
       "      <td>23062A291</td>\n",
       "    </tr>\n",
       "    <tr>\n",
       "      <th>4</th>\n",
       "      <td>168908dd3227b835</td>\n",
       "      <td>000070a3e6444850</td>\n",
       "      <td>3.928749e+06</td>\n",
       "      <td>3.093286e+06</td>\n",
       "      <td>21002A00-</td>\n",
       "    </tr>\n",
       "    <tr>\n",
       "      <th>5</th>\n",
       "      <td>571d3a9420bfd921</td>\n",
       "      <td>000070a3e6444850</td>\n",
       "      <td>3.928749e+06</td>\n",
       "      <td>3.093286e+06</td>\n",
       "      <td>21002A00-</td>\n",
       "    </tr>\n",
       "    <tr>\n",
       "      <th>6</th>\n",
       "      <td>7a674153c63cff1a</td>\n",
       "      <td>000070a3e6444850</td>\n",
       "      <td>3.928749e+06</td>\n",
       "      <td>3.093286e+06</td>\n",
       "      <td>21002A00-</td>\n",
       "    </tr>\n",
       "    <tr>\n",
       "      <th>7</th>\n",
       "      <td>f752d6b2f21748e9</td>\n",
       "      <td>0000c9a8bcb9dc40</td>\n",
       "      <td>3.933418e+06</td>\n",
       "      <td>3.089979e+06</td>\n",
       "      <td>23062A411</td>\n",
       "    </tr>\n",
       "    <tr>\n",
       "      <th>8</th>\n",
       "      <td>f650dce1f77c2b8d</td>\n",
       "      <td>0000d912bbd27c62</td>\n",
       "      <td>3.933455e+06</td>\n",
       "      <td>3.084513e+06</td>\n",
       "      <td>23062A321</td>\n",
       "    </tr>\n",
       "    <tr>\n",
       "      <th>9</th>\n",
       "      <td>ba7163ef44a69630</td>\n",
       "      <td>0001fec9715c8f2e</td>\n",
       "      <td>3.933030e+06</td>\n",
       "      <td>3.090174e+06</td>\n",
       "      <td>23062A411</td>\n",
       "    </tr>\n",
       "  </tbody>\n",
       "</table>\n",
       "</div>"
      ],
      "text/plain": [
       "            id_demo             id_hh             X             Y  cd_sector\n",
       "0  0c048b3a434e49e6  0000608540e08433  3.928896e+06  3.093221e+06  21002A00-\n",
       "1  138bb0696595b338  0000608540e08433  3.928896e+06  3.093221e+06  21002A00-\n",
       "2  a1d0c6e83f027327  0000608540e08433  3.928896e+06  3.093221e+06  21002A00-\n",
       "3  824cca8cfaf9469b  000065bda44347cc  3.936903e+06  3.086124e+06  23062A291\n",
       "4  168908dd3227b835  000070a3e6444850  3.928749e+06  3.093286e+06  21002A00-\n",
       "5  571d3a9420bfd921  000070a3e6444850  3.928749e+06  3.093286e+06  21002A00-\n",
       "6  7a674153c63cff1a  000070a3e6444850  3.928749e+06  3.093286e+06  21002A00-\n",
       "7  f752d6b2f21748e9  0000c9a8bcb9dc40  3.933418e+06  3.089979e+06  23062A411\n",
       "8  f650dce1f77c2b8d  0000d912bbd27c62  3.933455e+06  3.084513e+06  23062A321\n",
       "9  ba7163ef44a69630  0001fec9715c8f2e  3.933030e+06  3.090174e+06  23062A411"
      ]
     },
     "execution_count": 6,
     "metadata": {},
     "output_type": "execute_result"
    }
   ],
   "source": [
    "df.head(10)"
   ]
  },
  {
   "cell_type": "markdown",
   "metadata": {},
   "source": [
    "Vérification du nombre de personnes et de ménages dans la population:"
   ]
  },
  {
   "cell_type": "code",
   "execution_count": 7,
   "metadata": {},
   "outputs": [
    {
     "name": "stdout",
     "output_type": "stream",
     "text": [
      "N personnes: 210953  - N ménages: 86299\n"
     ]
    }
   ],
   "source": [
    "pop = database.execute(f'''select count(*) as population from T01_POPULATION''').fetchone()[0]\n",
    "hh = database.execute(f'''select count(distinct id_hh) as population from T01_POPULATION''').fetchone()[0]\n",
    "print(\"N personnes:\", pop, \" - N ménages:\", hh)"
   ]
  },
  {
   "cell_type": "code",
   "execution_count": 9,
   "metadata": {},
   "outputs": [
    {
     "data": {
      "text/plain": [
       "Text(0.5, 1.0, 'Sample location in Belgium')"
      ]
     },
     "execution_count": 9,
     "metadata": {},
     "output_type": "execute_result"
    },
    {
     "data": {
      "image/png": "[encoded data removed]",
      "text/plain": [
       "<Figure size 1000x1000 with 1 Axes>"
      ]
     },
     "metadata": {},
     "output_type": "display_data"
    }
   ],
   "source": [
    "import matplotlib.pyplot as plot\n",
    "import geopandas as gpd\n",
    "\n",
    "gdf = gpd.GeoDataFrame(pd.read_csv('input/synthetic_population/synthetic_population.csv',sep='|'), geometry=gpd.points_from_xy(df.X, df.Y), crs=\"EPSG:3035\")\n",
    "gdf_wgs84 = gdf.to_crs(epsg=4326)\n",
    "\n",
    "gdf_belgium = gpd.read_file('input/Apn_AdPr/Apn_AdPr.shp')\n",
    "gdf_belgium_wgs84 = gdf_belgium.to_crs(epsg=4326)\n",
    "\n",
    "fig, ax = plot.subplots(figsize=(10, 10))\n",
    "gdf_belgium_wgs84.plot(ax=ax, column='NameFRE', cmap='Reds', edgecolor='black', linewidth=0.3, alpha=0.7) \n",
    "gdf_wgs84.plot(ax=ax, color=\"blue\", marker='o', markersize=1.0)\n",
    "ax.set_title(\"Sample location in Belgium\")"
   ]
  },
  {
   "cell_type": "markdown",
   "metadata": {},
   "source": [
    "### 2. Grid de base (taille des mailles 1000 m)"
   ]
  },
  {
   "cell_type": "markdown",
   "metadata": {},
   "source": [
    "Partant des coordonées minimum et maximum de l'échantillon de test créé pour ce tutoriel (ci-dessus), une liste des coordonnées des coins inférieurs gauches des mailles de 1000 m qui englobent ces points est établie et stockée dans la table **T02_BASE_GRID**."
   ]
  },
  {
   "cell_type": "code",
   "execution_count": 10,
   "metadata": {},
   "outputs": [
    {
     "data": {
      "text/plain": [
       "(3924000, 3936000, 3081000, 3093000)"
      ]
     },
     "execution_count": 10,
     "metadata": {},
     "output_type": "execute_result"
    }
   ],
   "source": [
    "# Valeurs minimales et maximales de x et y\n",
    "# Il est aussi possible de définir la zone d'étude en assignant les valeurs directement à nos variables\n",
    "# Xmin, Xmax, Ymin, Ymax = 3924000, 3936000, 3081000, 3093000\n",
    "minX = database.execute(f'''select cast(floor(min(X)/1000)*1000 as int) from T01_POPULATION''').fetchone()[0]\n",
    "maxX = database.execute(f'''select cast(floor(max(X)/1000)*1000 as int) from T01_POPULATION''').fetchone()[0]\n",
    "minY = database.execute(f'''select cast(floor(min(Y)/1000)*1000 as int) from T01_POPULATION''').fetchone()[0]\n",
    "maxY = database.execute(f'''select cast(floor(max(Y)/1000)*1000 as int) from T01_POPULATION''').fetchone()[0]\n",
    "minX, maxX, minY, maxY"
   ]
  },
  {
   "cell_type": "code",
   "execution_count": 11,
   "metadata": {},
   "outputs": [
    {
     "name": "stdout",
     "output_type": "stream",
     "text": [
      "Nombre de mailles de 1000 m: 169\n"
     ]
    },
    {
     "data": {
      "text/html": [
       "<div>\n",
       "<style scoped>\n",
       "    .dataframe tbody tr th:only-of-type {\n",
       "        vertical-align: middle;\n",
       "    }\n",
       "\n",
       "    .dataframe tbody tr th {\n",
       "        vertical-align: top;\n",
       "    }\n",
       "\n",
       "    .dataframe thead th {\n",
       "        text-align: right;\n",
       "    }\n",
       "</style>\n",
       "<table border=\"1\" class=\"dataframe\">\n",
       "  <thead>\n",
       "    <tr style=\"text-align: right;\">\n",
       "      <th></th>\n",
       "      <th>X</th>\n",
       "      <th>Y</th>\n",
       "    </tr>\n",
       "  </thead>\n",
       "  <tbody>\n",
       "    <tr>\n",
       "      <th>0</th>\n",
       "      <td>3924000</td>\n",
       "      <td>3081000</td>\n",
       "    </tr>\n",
       "    <tr>\n",
       "      <th>1</th>\n",
       "      <td>3924000</td>\n",
       "      <td>3082000</td>\n",
       "    </tr>\n",
       "    <tr>\n",
       "      <th>2</th>\n",
       "      <td>3924000</td>\n",
       "      <td>3083000</td>\n",
       "    </tr>\n",
       "    <tr>\n",
       "      <th>3</th>\n",
       "      <td>3924000</td>\n",
       "      <td>3084000</td>\n",
       "    </tr>\n",
       "    <tr>\n",
       "      <th>4</th>\n",
       "      <td>3924000</td>\n",
       "      <td>3085000</td>\n",
       "    </tr>\n",
       "  </tbody>\n",
       "</table>\n",
       "</div>"
      ],
      "text/plain": [
       "         X        Y\n",
       "0  3924000  3081000\n",
       "1  3924000  3082000\n",
       "2  3924000  3083000\n",
       "3  3924000  3084000\n",
       "4  3924000  3085000"
      ]
     },
     "execution_count": 11,
     "metadata": {},
     "output_type": "execute_result"
    }
   ],
   "source": [
    "# Point spacing\n",
    "x_spacing = 1000 \n",
    "y_spacing = 1000\n",
    "\n",
    "# Array avec les coordonnées X et Y\n",
    "xcoords = [c for c in np.arange(minX, maxX+1, x_spacing)]\n",
    "ycoords = [c for c in np.arange(minY, maxY+1, y_spacing)]\n",
    "\n",
    "# Combinaison des array X et Y\n",
    "grid_coords = []\n",
    "\n",
    "for i in range(len(xcoords)):\n",
    "    for j in range(len(ycoords)):\n",
    "        grid_coords.append((xcoords[i], ycoords[j]))\n",
    "\n",
    "# Stockage dans un dataframe\n",
    "grid_df = pd.DataFrame.from_records(grid_coords, columns=['X','Y'])\n",
    "print('Nombre de mailles de 1000 m:', len(grid_df))\n",
    "grid_df.head()"
   ]
  },
  {
   "cell_type": "code",
   "execution_count": 12,
   "metadata": {},
   "outputs": [
    {
     "data": {
      "text/plain": [
       "<AxesSubplot: xlabel='X', ylabel='Y'>"
      ]
     },
     "execution_count": 12,
     "metadata": {},
     "output_type": "execute_result"
    },
    {
     "data": {
      "image/png": "[encoded data removed]",
      "text/plain": [
       "<Figure size 640x480 with 1 Axes>"
      ]
     },
     "metadata": {},
     "output_type": "display_data"
    }
   ],
   "source": [
    "grid_df.plot.scatter(x='X', y='Y')"
   ]
  },
  {
   "cell_type": "code",
   "execution_count": 13,
   "metadata": {},
   "outputs": [
    {
     "data": {
      "text/plain": [
       "169"
      ]
     },
     "execution_count": 13,
     "metadata": {},
     "output_type": "execute_result"
    }
   ],
   "source": [
    "grid_df.to_sql(name='T02_BASE_GRID',con=database,index=False,if_exists=\"replace\")"
   ]
  },
  {
   "cell_type": "markdown",
   "metadata": {},
   "source": [
    "## Aggrégation des données par point XY"
   ]
  },
  {
   "cell_type": "markdown",
   "metadata": {},
   "source": [
    "On groupe alors par coordonnées XY distinctes, pour obtenir une table **T03_POINTS** qui reprend une ligne par XY distinct et le nombre de personnes et de ménages pour ce point."
   ]
  },
  {
   "cell_type": "code",
   "execution_count": 14,
   "metadata": {},
   "outputs": [
    {
     "data": {
      "text/plain": [
       "<sqlite3.Cursor at 0x2790897eb40>"
      ]
     },
     "execution_count": 14,
     "metadata": {},
     "output_type": "execute_result"
    }
   ],
   "source": [
    "database.execute('drop table if exists T03_POINTS')\n",
    "database.execute('''\n",
    "                     create table T03_POINTS as\n",
    "                     select X,\n",
    "                            Y,\n",
    "                            count(id_demo) as ms_population,\n",
    "                            count(id_hh)   as ms_countof_hh\n",
    "                     from T01_POPULATION\n",
    "                     group by 1, 2\n",
    "                ''')"
   ]
  },
  {
   "cell_type": "markdown",
   "metadata": {},
   "source": [
    "Vérification du nombre de points:"
   ]
  },
  {
   "cell_type": "code",
   "execution_count": 15,
   "metadata": {},
   "outputs": [
    {
     "name": "stdout",
     "output_type": "stream",
     "text": [
      "N points:  79506\n"
     ]
    }
   ],
   "source": [
    "pts = database.execute(f'''select count(*) as population from T03_POINTS''').fetchone()[0]\n",
    "print(\"N points: \", pts)"
   ]
  },
  {
   "cell_type": "markdown",
   "metadata": {},
   "source": [
    "## Division des mailles"
   ]
  },
  {
   "cell_type": "markdown",
   "metadata": {},
   "source": [
    "### 1. Création d'une table pour recevoir les résultats "
   ]
  },
  {
   "cell_type": "markdown",
   "metadata": {},
   "source": [
    "**T05_RESULTS** est la table qui va accueillir les mailles de taille variable:\n",
    " - (XY_X,XY_Y) sont les coordonnées du point inférieur gauche de la maille\n",
    " - MS_LENGTH est la longueur du côté de la maille\n",
    " - MS_POPULATION est la population qui vit dans la maille\n",
    " - MS_COUNTOF_HH est le nombre de ménages qui vivent dans la maille\n",
    " \n",
    " Elle va être alimentée par la table **T03_POINTS**."
   ]
  },
  {
   "cell_type": "code",
   "execution_count": 16,
   "metadata": {},
   "outputs": [
    {
     "data": {
      "text/plain": [
       "<sqlite3.Cursor at 0x279089af2c0>"
      ]
     },
     "execution_count": 16,
     "metadata": {},
     "output_type": "execute_result"
    }
   ],
   "source": [
    "database.execute('drop table if exists T05_RESULTS')\n",
    "database.execute('''\n",
    "                    create table T05_RESULTS (\n",
    "                        X             integer,\n",
    "                        Y             integer,\n",
    "                        MS_LENGTH     integer,\n",
    "                        MS_POPULATION integer,\n",
    "                        MS_COUNTOF_HH integer  )\n",
    "                ''')"
   ]
  },
  {
   "cell_type": "markdown",
   "metadata": {},
   "source": [
    "### 2. Fonction de division itérative des mailles avec contrôle de confidentialité"
   ]
  },
  {
   "cell_type": "markdown",
   "metadata": {},
   "source": [
    "Il faut maintenant attribuer à chaque point la plus petite maille qui peut le contenir. Les dimensions des mailles que l’on souhaite obtenir sont : 1000 x 1000m, 500 x 500m, 250 x 250m et 125 x 125m.\n",
    "\n",
    "Pour qu'une maille soit divisée, il faut qu'il y ait:\n",
    "- exactement 4 sous-mailles\n",
    "- au moins 10 personnes et au moins 5 ménages dans chacune des 4 sous-mailles\n",
    "\n",
    "Le calcul se base sur les coordonnées du coin inférieur gauche d'une maille, qui peut être vues comme un identifiant de celle-ci. Les unités de notre système de coordonnées sont en mètres. Pour chaque point, il est ainsi possible de déterminer le coin inférieur gauche de la maille de la façon suivante:\n",
    "- Maille 1000 m : ```X,Y<sub>coin inf gauche</sub> = floor(X<sub>point</sub>/1000), floor(Y<sub>point</sub>/1000)```\n",
    "- Maille 500 m :  ```X,Y<sub>coin inf gauche</sub> = floor(X<sub>point</sub>/500), floor(Y<sub>point</sub>/500)```\n",
    "- Etc.\n",
    "\n",
    "De façon itérative, il est alors possible de :\n",
    "- déterminer les coordonnées du coin inférieur gauche de la maille de taille X (= parent)\n",
    "- déterminer les coordonnées du coin inférieur gauche de la maille de taille X/2 (= enfant)\n",
    "- attribuer un flag de confidentialité = group by sur chaque maille de taille X/2 *-> 1 si les critères ne sont pas rencontrés, 0 s'ils sont respectés*\n",
    "\n",
    "Si les 4 sous-mailles enfant ne rencontrent pas les critères de confidentialité, cela signifie que la division est impossible, et qu'il faut garder la maille parent de taille X. Les mailles parent de taille X concernées sont dès lors copiées dans la table de résultats **T04_RESULTS** (aggrégation par maille parent du nombre de points et de ménages) et les points coorrespondants supprimés de la table de points **T03_POINTS**.\n",
    "\n",
    "Cette procédure est réalisée pour toutes les tailles de sous-mailles souhaitées.\n",
    "\n",
    "Une fonction a été écrite pour réalisé cette opération pour chaque dimension, ```l2``` correspondant à X et ```l1``` à X/2."
   ]
  },
  {
   "cell_type": "code",
   "execution_count": 17,
   "metadata": {},
   "outputs": [],
   "source": [
    "def tryToSplitCellsWithLength(l2):\n",
    "    \n",
    "    l1=int(l2/2)\n",
    "    \n",
    "    # division en 4 sous-mailles\n",
    "    database.execute(f'drop table if exists T04_AGG_{l2}')\n",
    "    database.execute(f'''\n",
    "              create table T04_AGG_{l2} as\n",
    "              select floor(X/{l2})*{l2}            as X_PARENT,\n",
    "                     floor(Y/{l2})*{l2}            as Y_PARENT,\n",
    "                     {l2}                          as MS_LENGTH_PARENT,\n",
    "                     floor(X/{l1})*{l1}            as X,\n",
    "                     floor(Y/{l1})*{l1}            as Y,\n",
    "                     {l1}                          as MS_LENGTH,\n",
    "                     sum(MS_POPULATION)            as MS_POPULATION,\n",
    "                     sum(MS_COUNTOF_HH)            as MS_COUNTOF_HH,\n",
    "                     case\n",
    "                       when sum(MS_POPULATION)>=10 and sum(MS_COUNTOF_HH)>=5 then 0\n",
    "                       else 1\n",
    "                      end as FL_CONFIDENTIAL\n",
    "               from T03_POINTS\n",
    "               group by 1, 2, 3, 4, 5, 6\n",
    "               ''')\n",
    "    database.commit()\n",
    "    \n",
    "    # copie des mailles de taille l2 avec la population et le nombre de ménages\n",
    "    database.execute(f'''\n",
    "              insert into T05_RESULTS (X,Y,MS_LENGTH,MS_POPULATION,MS_COUNTOF_HH)\n",
    "              select X_PARENT, Y_PARENT, MS_LENGTH_PARENT, sum(MS_POPULATION), sum(MS_COUNTOF_HH)\n",
    "              from T04_AGG_{l2}\n",
    "              group by 1, 2, 3\n",
    "              having sum(not FL_CONFIDENTIAL)<4;\n",
    "              ''')\n",
    "    database.commit()\n",
    "\n",
    "    # suppression de la table de points des points repris dans les mailles de taille l2 copiées ci-dessus dans les résultats\n",
    "    database.execute(f'''\n",
    "              delete from T03_POINTS\n",
    "              where cast(floor(X/{l2})*{l2} as int)||'+'||cast(floor(Y/{l2})*{l2} as int) in (\n",
    "               select distinct cast(X as int)||'+'||cast(Y as int) from T05_RESULTS)\n",
    "              ''')\n",
    "    database.commit()"
   ]
  },
  {
   "cell_type": "markdown",
   "metadata": {},
   "source": [
    "### 3. Exécution de la fonction pour toutes les tailles de mailles"
   ]
  },
  {
   "cell_type": "code",
   "execution_count": 18,
   "metadata": {},
   "outputs": [
    {
     "name": "stdout",
     "output_type": "stream",
     "text": [
      "N points restant:  69292\n"
     ]
    }
   ],
   "source": [
    "tryToSplitCellsWithLength(1000)\n",
    "n1000 = database.execute('''select count(*) as remaining from T03_POINTS''').fetchone()[0]\n",
    "print(\"N points restant: \", n1000)"
   ]
  },
  {
   "cell_type": "code",
   "execution_count": 19,
   "metadata": {},
   "outputs": [
    {
     "name": "stdout",
     "output_type": "stream",
     "text": [
      "N points restant:  61598\n"
     ]
    }
   ],
   "source": [
    "tryToSplitCellsWithLength(500)\n",
    "n500 = database.execute('''select count(*) as remaining from T03_POINTS''').fetchone()[0]\n",
    "print(\"N points restant: \", n500)"
   ]
  },
  {
   "cell_type": "code",
   "execution_count": 20,
   "metadata": {},
   "outputs": [
    {
     "name": "stdout",
     "output_type": "stream",
     "text": [
      "N points restant:  47001\n"
     ]
    }
   ],
   "source": [
    "tryToSplitCellsWithLength(250)\n",
    "n250 = database.execute('''select count(*) as remaining from T03_POINTS''').fetchone()[0]\n",
    "print(\"N points restant: \", n250)"
   ]
  },
  {
   "cell_type": "code",
   "execution_count": 21,
   "metadata": {},
   "outputs": [
    {
     "name": "stdout",
     "output_type": "stream",
     "text": [
      "N points restant:  21223\n"
     ]
    }
   ],
   "source": [
    "tryToSplitCellsWithLength(125)\n",
    "n125 = database.execute('''select count(*) as remaining from T03_POINTS''').fetchone()[0]\n",
    "print(\"N points restant: \", n125)"
   ]
  },
  {
   "cell_type": "markdown",
   "metadata": {},
   "source": [
    "### 4. Ajout des mailles de plus petite taille"
   ]
  },
  {
   "cell_type": "markdown",
   "metadata": {},
   "source": [
    "Après avoir exécuté la fonction pour toutes les dimensions, nous avons pu stocker dans les résultats toutes les mailles de taille minimum allant jusqu'à 250 m. En effet, la dernière exécution étant pour la taille 125 m, le stockage des résultats a été réalisé pour les mailles qui ne peuvent pas être divisées vers des mailles de 125 m. Restent donc toutes les mailles de 125 m pour lesquelles les critères de confidentialité sont respectés.\n",
    "\n",
    "Ces mailles sont donc ajoutées à la table de résultats **T05_RESULTS**, et la table de points **T03_POINTS** est alors totalement vide. "
   ]
  },
  {
   "cell_type": "code",
   "execution_count": 22,
   "metadata": {},
   "outputs": [],
   "source": [
    "database.execute(f'''\n",
    "              insert into T05_RESULTS (X,Y,MS_LENGTH,MS_POPULATION,MS_COUNTOF_HH)\n",
    "              select floor(X/125)*125, \n",
    "                     floor(Y/125)*125, \n",
    "                     125, \n",
    "                     sum(MS_POPULATION), \n",
    "                     sum(MS_COUNTOF_HH)\n",
    "              from T03_POINTS\n",
    "              group by 1, 2, 3''')\n",
    "database.commit()\n",
    "\n",
    "database.execute(f'''\n",
    "              delete from T03_POINTS\n",
    "              where cast(floor(X/125)*125 as int)||'+'||cast(floor(Y/125)*125 as int) in (\n",
    "               select distinct cast(X as int)||'+'||cast(Y as int) from T05_RESULTS)\n",
    "              ''')\n",
    "database.commit()"
   ]
  },
  {
   "cell_type": "code",
   "execution_count": 23,
   "metadata": {},
   "outputs": [
    {
     "name": "stdout",
     "output_type": "stream",
     "text": [
      "N points restant:  0\n"
     ]
    }
   ],
   "source": [
    "n_remaining = database.execute(f'''select count(*) as remaining from T03_POINTS''').fetchone()[0]\n",
    "print(\"N points restant: \", n_remaining)"
   ]
  },
  {
   "cell_type": "markdown",
   "metadata": {},
   "source": [
    "### 5. Compléter le grid"
   ]
  },
  {
   "cell_type": "markdown",
   "metadata": {},
   "source": [
    "Certains km² sont vide de toute population. Nous voulons, malgré tout, les avoir dans notre banque de données. On utilise pour cela la liste des mailles de taille 1000 m que nous avons créée au début du code (**T02_BASE_GRID**).\n",
    "\n",
    "Les coins inférieurs gauche des mailles de 1000 m non présents dans la table de résultats **T05_RESULTS** sont ajoutés dans celle-ci."
   ]
  },
  {
   "cell_type": "code",
   "execution_count": 24,
   "metadata": {},
   "outputs": [],
   "source": [
    "database.execute(f'''\n",
    "                  insert into T05_RESULTS (X,Y,MS_LENGTH,MS_POPULATION,MS_COUNTOF_HH)\n",
    "                  select X    as X,\n",
    "                         Y    as Y,\n",
    "                         1000 as MS_LENGTH,\n",
    "                         0    as MS_POPULATION,\n",
    "                         0    as MS_COUNTOF_HH\n",
    "                  from T02_BASE_GRID\n",
    "                  where (X||Y) not in (SELECT (X||Y) FROM T05_RESULTS)\n",
    "                ''')\n",
    "database.commit()"
   ]
  },
  {
   "cell_type": "code",
   "execution_count": 25,
   "metadata": {},
   "outputs": [],
   "source": [
    "grid_pop_df = pd.read_sql(\"\"\"select X, Y from T05_RESULTS\"\"\", database)"
   ]
  },
  {
   "cell_type": "code",
   "execution_count": 26,
   "metadata": {},
   "outputs": [
    {
     "data": {
      "text/plain": [
       "<AxesSubplot: xlabel='X', ylabel='Y'>"
      ]
     },
     "execution_count": 26,
     "metadata": {},
     "output_type": "execute_result"
    },
    {
     "data": {
      "image/png": "[encoded data removed]",
      "text/plain": [
       "<Figure size 640x480 with 1 Axes>"
      ]
     },
     "metadata": {},
     "output_type": "display_data"
    }
   ],
   "source": [
    "grid_pop_df.plot.scatter(x='X', y='Y')"
   ]
  },
  {
   "cell_type": "markdown",
   "metadata": {},
   "source": [
    "# Résultats"
   ]
  },
  {
   "cell_type": "markdown",
   "metadata": {},
   "source": [
    "### 1. Contrôles numériques"
   ]
  },
  {
   "cell_type": "markdown",
   "metadata": {},
   "source": [
    "Vérification de la population totale (doit être égale à la population du fichier de départ)"
   ]
  },
  {
   "cell_type": "code",
   "execution_count": 27,
   "metadata": {},
   "outputs": [
    {
     "name": "stdout",
     "output_type": "stream",
     "text": [
      "Population totale (vérification) : 210953\n"
     ]
    }
   ],
   "source": [
    "res2=database.execute(\"select sum(ms_population) from T05_RESULTS\").fetchone()[0]\n",
    "print('Population totale (vérification) :',res2)"
   ]
  },
  {
   "cell_type": "markdown",
   "metadata": {},
   "source": [
    "Ventilation de la population par taille de maille."
   ]
  },
  {
   "cell_type": "code",
   "execution_count": 28,
   "metadata": {},
   "outputs": [
    {
     "data": {
      "text/html": [
       "<div>\n",
       "<style scoped>\n",
       "    .dataframe tbody tr th:only-of-type {\n",
       "        vertical-align: middle;\n",
       "    }\n",
       "\n",
       "    .dataframe tbody tr th {\n",
       "        vertical-align: top;\n",
       "    }\n",
       "\n",
       "    .dataframe thead th {\n",
       "        text-align: right;\n",
       "    }\n",
       "</style>\n",
       "<table border=\"1\" class=\"dataframe\">\n",
       "  <thead>\n",
       "    <tr style=\"text-align: right;\">\n",
       "      <th></th>\n",
       "      <th>MS_LENGTH</th>\n",
       "      <th>count(*)</th>\n",
       "      <th>sum(ms_population)</th>\n",
       "    </tr>\n",
       "  </thead>\n",
       "  <tbody>\n",
       "    <tr>\n",
       "      <th>0</th>\n",
       "      <td>125</td>\n",
       "      <td>2004</td>\n",
       "      <td>138537</td>\n",
       "    </tr>\n",
       "    <tr>\n",
       "      <th>1</th>\n",
       "      <td>250</td>\n",
       "      <td>411</td>\n",
       "      <td>33054</td>\n",
       "    </tr>\n",
       "    <tr>\n",
       "      <th>2</th>\n",
       "      <td>500</td>\n",
       "      <td>112</td>\n",
       "      <td>17978</td>\n",
       "    </tr>\n",
       "    <tr>\n",
       "      <th>3</th>\n",
       "      <td>1000</td>\n",
       "      <td>84</td>\n",
       "      <td>21384</td>\n",
       "    </tr>\n",
       "  </tbody>\n",
       "</table>\n",
       "</div>"
      ],
      "text/plain": [
       "   MS_LENGTH  count(*)  sum(ms_population)\n",
       "0        125      2004              138537\n",
       "1        250       411               33054\n",
       "2        500       112               17978\n",
       "3       1000        84               21384"
      ]
     },
     "execution_count": 28,
     "metadata": {},
     "output_type": "execute_result"
    }
   ],
   "source": [
    "res=pd.read_sql(\"\"\"select MS_LENGTH, count(*), sum(ms_population)\n",
    "                   from T05_RESULTS\n",
    "                   group by 1\n",
    "                \"\"\", database)\n",
    "res.head()"
   ]
  },
  {
   "cell_type": "markdown",
   "metadata": {},
   "source": [
    "Vérification de la confidentialité : les mailles avec moins de 10 personnes ou de 5 ménages sont confidentielles et ne peuvent pas être divisées; doivent être uniquement de taille 1000 m."
   ]
  },
  {
   "cell_type": "code",
   "execution_count": 29,
   "metadata": {
    "scrolled": true
   },
   "outputs": [
    {
     "data": {
      "text/html": [
       "<div>\n",
       "<style scoped>\n",
       "    .dataframe tbody tr th:only-of-type {\n",
       "        vertical-align: middle;\n",
       "    }\n",
       "\n",
       "    .dataframe tbody tr th {\n",
       "        vertical-align: top;\n",
       "    }\n",
       "\n",
       "    .dataframe thead th {\n",
       "        text-align: right;\n",
       "    }\n",
       "</style>\n",
       "<table border=\"1\" class=\"dataframe\">\n",
       "  <thead>\n",
       "    <tr style=\"text-align: right;\">\n",
       "      <th></th>\n",
       "      <th>X</th>\n",
       "      <th>Y</th>\n",
       "      <th>MS_LENGTH</th>\n",
       "      <th>sum(MS_POPULATION)</th>\n",
       "    </tr>\n",
       "  </thead>\n",
       "  <tbody>\n",
       "    <tr>\n",
       "      <th>0</th>\n",
       "      <td>3926000</td>\n",
       "      <td>3086000</td>\n",
       "      <td>1000</td>\n",
       "      <td>1</td>\n",
       "    </tr>\n",
       "    <tr>\n",
       "      <th>1</th>\n",
       "      <td>3928000</td>\n",
       "      <td>3087000</td>\n",
       "      <td>1000</td>\n",
       "      <td>7</td>\n",
       "    </tr>\n",
       "    <tr>\n",
       "      <th>2</th>\n",
       "      <td>3928000</td>\n",
       "      <td>3088000</td>\n",
       "      <td>1000</td>\n",
       "      <td>4</td>\n",
       "    </tr>\n",
       "    <tr>\n",
       "      <th>3</th>\n",
       "      <td>3929000</td>\n",
       "      <td>3085000</td>\n",
       "      <td>1000</td>\n",
       "      <td>4</td>\n",
       "    </tr>\n",
       "    <tr>\n",
       "      <th>4</th>\n",
       "      <td>3930000</td>\n",
       "      <td>3091000</td>\n",
       "      <td>1000</td>\n",
       "      <td>3</td>\n",
       "    </tr>\n",
       "    <tr>\n",
       "      <th>5</th>\n",
       "      <td>3930000</td>\n",
       "      <td>3092000</td>\n",
       "      <td>1000</td>\n",
       "      <td>3</td>\n",
       "    </tr>\n",
       "    <tr>\n",
       "      <th>6</th>\n",
       "      <td>3932000</td>\n",
       "      <td>3092000</td>\n",
       "      <td>1000</td>\n",
       "      <td>6</td>\n",
       "    </tr>\n",
       "    <tr>\n",
       "      <th>7</th>\n",
       "      <td>3935000</td>\n",
       "      <td>3091000</td>\n",
       "      <td>1000</td>\n",
       "      <td>1</td>\n",
       "    </tr>\n",
       "  </tbody>\n",
       "</table>\n",
       "</div>"
      ],
      "text/plain": [
       "         X        Y  MS_LENGTH  sum(MS_POPULATION)\n",
       "0  3926000  3086000       1000                   1\n",
       "1  3928000  3087000       1000                   7\n",
       "2  3928000  3088000       1000                   4\n",
       "3  3929000  3085000       1000                   4\n",
       "4  3930000  3091000       1000                   3\n",
       "5  3930000  3092000       1000                   3\n",
       "6  3932000  3092000       1000                   6\n",
       "7  3935000  3091000       1000                   1"
      ]
     },
     "execution_count": 29,
     "metadata": {},
     "output_type": "execute_result"
    }
   ],
   "source": [
    "pd.read_sql(\"\"\"\n",
    "                  SELECT X, \n",
    "                         Y,\n",
    "                         MS_LENGTH,\n",
    "                         sum(MS_POPULATION)\n",
    "                  FROM T05_RESULTS\n",
    "                  where ms_population<10 and ms_population>0\n",
    "                  group by 1, 2, 3\n",
    "            \"\"\",\n",
    "            database)"
   ]
  },
  {
   "cell_type": "code",
   "execution_count": 30,
   "metadata": {},
   "outputs": [
    {
     "data": {
      "text/html": [
       "<div>\n",
       "<style scoped>\n",
       "    .dataframe tbody tr th:only-of-type {\n",
       "        vertical-align: middle;\n",
       "    }\n",
       "\n",
       "    .dataframe tbody tr th {\n",
       "        vertical-align: top;\n",
       "    }\n",
       "\n",
       "    .dataframe thead th {\n",
       "        text-align: right;\n",
       "    }\n",
       "</style>\n",
       "<table border=\"1\" class=\"dataframe\">\n",
       "  <thead>\n",
       "    <tr style=\"text-align: right;\">\n",
       "      <th></th>\n",
       "      <th>X</th>\n",
       "      <th>Y</th>\n",
       "      <th>MS_LENGTH</th>\n",
       "      <th>ms_hh</th>\n",
       "    </tr>\n",
       "  </thead>\n",
       "  <tbody>\n",
       "    <tr>\n",
       "      <th>0</th>\n",
       "      <td>3926000</td>\n",
       "      <td>3086000</td>\n",
       "      <td>1000</td>\n",
       "      <td>1</td>\n",
       "    </tr>\n",
       "    <tr>\n",
       "      <th>1</th>\n",
       "      <td>3928000</td>\n",
       "      <td>3088000</td>\n",
       "      <td>1000</td>\n",
       "      <td>4</td>\n",
       "    </tr>\n",
       "    <tr>\n",
       "      <th>2</th>\n",
       "      <td>3929000</td>\n",
       "      <td>3085000</td>\n",
       "      <td>1000</td>\n",
       "      <td>4</td>\n",
       "    </tr>\n",
       "    <tr>\n",
       "      <th>3</th>\n",
       "      <td>3930000</td>\n",
       "      <td>3091000</td>\n",
       "      <td>1000</td>\n",
       "      <td>3</td>\n",
       "    </tr>\n",
       "    <tr>\n",
       "      <th>4</th>\n",
       "      <td>3930000</td>\n",
       "      <td>3092000</td>\n",
       "      <td>1000</td>\n",
       "      <td>3</td>\n",
       "    </tr>\n",
       "    <tr>\n",
       "      <th>5</th>\n",
       "      <td>3935000</td>\n",
       "      <td>3091000</td>\n",
       "      <td>1000</td>\n",
       "      <td>1</td>\n",
       "    </tr>\n",
       "  </tbody>\n",
       "</table>\n",
       "</div>"
      ],
      "text/plain": [
       "         X        Y  MS_LENGTH  ms_hh\n",
       "0  3926000  3086000       1000      1\n",
       "1  3928000  3088000       1000      4\n",
       "2  3929000  3085000       1000      4\n",
       "3  3930000  3091000       1000      3\n",
       "4  3930000  3092000       1000      3\n",
       "5  3935000  3091000       1000      1"
      ]
     },
     "execution_count": 30,
     "metadata": {},
     "output_type": "execute_result"
    }
   ],
   "source": [
    "pd.read_sql(\"\"\"\n",
    "                  SELECT X, \n",
    "                         Y,\n",
    "                         MS_LENGTH,\n",
    "                         sum(MS_COUNTOF_HH) as ms_hh\n",
    "                  FROM T05_RESULTS\n",
    "                  where ms_countof_hh<5 and ms_countof_hh>0\n",
    "                  group by 1, 2, 3\n",
    "            \"\"\",\n",
    "            database)"
   ]
  },
  {
   "cell_type": "markdown",
   "metadata": {},
   "source": [
    "### 2. Conversion des mailles en géométries"
   ]
  },
  {
   "cell_type": "markdown",
   "metadata": {},
   "source": [
    "Ce query a pour but de créer une table contenant les mailles au format ```geometry```, de type polygone. \n",
    "\n",
    "Connaissant les coordonnées du coin inférieur gauche de chaque maille et la longueur de côté de celle-ci, il est possible de calculer les coordonnées des 3 points manquant pour reconstituer la surface de la maille. "
   ]
  },
  {
   "cell_type": "code",
   "execution_count": 31,
   "metadata": {},
   "outputs": [
    {
     "data": {
      "text/plain": [
       "<sqlite3.Cursor at 0x2790897d840>"
      ]
     },
     "execution_count": 31,
     "metadata": {},
     "output_type": "execute_result"
    }
   ],
   "source": [
    "database.execute('drop table if exists POP_GRID_3035')\n",
    "database.execute('''\n",
    "                    create table POP_GRID_3035 as\n",
    "                    select *,\n",
    "                           '1kmN'||cast(floor(Y/1000) as int)||'E'||cast(floor(X/1000) as int) as grid_id,\n",
    "                           CastToMultiPolygon(\n",
    "                              ST_GeomFromText('POLYGON(('||cast(x           as int)||' '||cast(y           as int)||','\n",
    "                                                         ||cast(x+MS_LENGTH as int)||' '||cast(y           as int)||','\n",
    "                                                         ||cast(x+MS_LENGTH as int)||' '||cast(y+MS_LENGTH as int)||','\n",
    "                                                         ||cast(x           as int)||' '||cast(y+MS_LENGTH as int)||','\n",
    "                                                         ||cast(x           as int)||' '||cast(y           as int)||'))',3035))\n",
    "                              as geometry\n",
    "                    from T05_RESULTS\n",
    "''')"
   ]
  },
  {
   "cell_type": "code",
   "execution_count": 32,
   "metadata": {},
   "outputs": [
    {
     "data": {
      "text/plain": [
       "(1,)"
      ]
     },
     "execution_count": 32,
     "metadata": {},
     "output_type": "execute_result"
    }
   ],
   "source": [
    "database.execute(\"select recovergeometrycolumn('POP_GRID_3035', 'geometry',3035,'MULTIPOLYGON','XY')\").fetchone()\n",
    "database.execute(\"select createSpatialIndex('POP_GRID_3035', 'geometry')\").fetchone()"
   ]
  },
  {
   "cell_type": "markdown",
   "metadata": {},
   "source": [
    "### Clean database "
   ]
  },
  {
   "cell_type": "code",
   "execution_count": 33,
   "metadata": {},
   "outputs": [
    {
     "data": {
      "text/plain": [
       "<sqlite3.Cursor at 0x2790897d640>"
      ]
     },
     "execution_count": 33,
     "metadata": {},
     "output_type": "execute_result"
    }
   ],
   "source": [
    "database.execute(\"drop table if exists T01_POPULATION\")\n",
    "database.execute(\"drop table if exists T02_BASE_GRID\")\n",
    "database.execute(\"drop table if exists T03_POINTS\")\n",
    "database.execute(\"drop table if exists T04_AGG_1000\")\n",
    "database.execute(\"drop table if exists T04_AGG_500\")\n",
    "database.execute(\"drop table if exists T04_AGG_250\")\n",
    "database.execute(\"drop table if exists T04_AGG_125\")\n",
    "database.execute(\"drop table if exists T05_RESULTS\")"
   ]
  },
  {
   "cell_type": "code",
   "execution_count": 34,
   "metadata": {},
   "outputs": [
    {
     "data": {
      "text/plain": [
       "<sqlite3.Cursor at 0x2790897d5c0>"
      ]
     },
     "execution_count": 34,
     "metadata": {},
     "output_type": "execute_result"
    }
   ],
   "source": [
    "database.execute(\"VACUUM\")"
   ]
  },
  {
   "cell_type": "markdown",
   "metadata": {},
   "source": [
    "## Export to shapefile and geojson"
   ]
  },
  {
   "cell_type": "code",
   "execution_count": 35,
   "metadata": {},
   "outputs": [],
   "source": [
    "sql = f\"\"\"\n",
    "SELECT x, y, ms_length as ms_len, ms_population as ms_pop, ms_countof_hh as ms_hh, \n",
    "       ST_AsBinary(geometry) as geometry\n",
    "FROM POP_GRID_3035\"\"\"\n",
    "\n",
    "gdf = gpd.GeoDataFrame.from_postgis(sql, database, geom_col='geometry',crs=3035)"
   ]
  },
  {
   "cell_type": "code",
   "execution_count": 36,
   "metadata": {},
   "outputs": [
    {
     "name": "stdout",
     "output_type": "stream",
     "text": [
      "epsg:3035\n"
     ]
    }
   ],
   "source": [
    "print(gdf.crs)"
   ]
  },
  {
   "cell_type": "code",
   "execution_count": 37,
   "metadata": {},
   "outputs": [],
   "source": [
    "gdf.to_file('output/POP_GRID_3035.shp')"
   ]
  },
  {
   "cell_type": "code",
   "execution_count": 38,
   "metadata": {},
   "outputs": [],
   "source": [
    "gdf.to_file('output/POP_GRID_3035.geojson', driver='GeoJSON')"
   ]
  },
  {
   "cell_type": "markdown",
   "metadata": {},
   "source": [
    "Fermeture de la connexion à la base de données"
   ]
  },
  {
   "cell_type": "code",
   "execution_count": 39,
   "metadata": {},
   "outputs": [],
   "source": [
    "database.close()"
   ]
  },
  {
   "cell_type": "code",
   "execution_count": null,
   "metadata": {},
   "outputs": [],
   "source": []
  }
 ],
 "metadata": {
  "kernelspec": {
   "display_name": "Python 3 (ipykernel)",
   "language": "python",
   "name": "python3"
  },
  "language_info": {
   "codemirror_mode": {
    "name": "ipython",
    "version": 3
   },
   "file_extension": ".py",
   "mimetype": "text/x-python",
   "name": "python",
   "nbconvert_exporter": "python",
   "pygments_lexer": "ipython3",
   "version": "3.10.6"
  }
 },
 "nbformat": 4,
 "nbformat_minor": 4
}
